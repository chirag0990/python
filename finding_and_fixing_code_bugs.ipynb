{
 "cells": [
  {
   "cell_type": "markdown",
   "id": "32abe4bb-808d-4008-8f48-9b1edf260e69",
   "metadata": {},
   "source": [
    "## Break-Points, Go, and Quit\n",
    "\n",
    "> Set a breakpoint by right-clicking (Ctrl-click on Mac) and Selecting Set Break-points\n",
    "\n",
    "> Pressing Go runs all code until the next break-points\n",
    "\n",
    "> Stop your debugging session using quit  "
   ]
  },
  {
   "cell_type": "markdown",
   "id": "c7829a6c-26f0-4b0c-b7b5-1b43368930d6",
   "metadata": {},
   "source": [
    "## Debugging Steps\n",
    "\n",
    "> 1). Guess which section may contain the bugs.\n",
    "\n",
    "> 2). Set a Break-Points and inspect the code by stepping through it with your debugger.\n",
    "\n",
    "> 3). Identify possible error and make a change.\n",
    "\n",
    "> 4). Repeat steps 1-3 as needed until the code works.\n",
    "     "
   ]
  },
  {
   "cell_type": "code",
   "execution_count": null,
   "id": "08ecc83a-b452-4ce6-9f18-0b2aa7601d68",
   "metadata": {},
   "outputs": [],
   "source": []
  }
 ],
 "metadata": {
  "kernelspec": {
   "display_name": "Python [conda env:base] *",
   "language": "python",
   "name": "conda-base-py"
  },
  "language_info": {
   "codemirror_mode": {
    "name": "ipython",
    "version": 3
   },
   "file_extension": ".py",
   "mimetype": "text/x-python",
   "name": "python",
   "nbconvert_exporter": "python",
   "pygments_lexer": "ipython3",
   "version": "3.13.5"
  }
 },
 "nbformat": 4,
 "nbformat_minor": 5
}
