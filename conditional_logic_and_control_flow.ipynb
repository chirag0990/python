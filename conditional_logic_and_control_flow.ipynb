{
 "cells": [
  {
   "cell_type": "markdown",
   "id": "686ce4a2-4b6d-4663-9314-afdf842ac14f",
   "metadata": {},
   "source": [
    "# Conditional Logic & Control Flow"
   ]
  },
  {
   "cell_type": "markdown",
   "id": "c46c3496-ef80-462d-a768-6fa88ab0fc61",
   "metadata": {},
   "source": [
    "**Conditional Logic** allows you to **check** if something is **True** or **False**."
   ]
  },
  {
   "cell_type": "markdown",
   "id": "541245ed-ebfd-455a-a078-be816b5f6a2d",
   "metadata": {},
   "source": [
    "# Add Some Logic\n",
    "\n",
    "* Boolean Comparators\n",
    "* Conditional Statements\n",
    "* Logic Operators\n",
    "* Operator Precedence"
   ]
  },
  {
   "cell_type": "markdown",
   "id": "b178396b-a4ec-48d8-8edc-b1d271cc956b",
   "metadata": {},
   "source": [
    "## Boolean Comparators\n",
    "\n",
    "* Greater than\n",
    "> example: 10 > 5\n",
    "* Less than\n",
    "> example: 5 < 10  \n",
    "* Greater than equal to\n",
    "> example: 10 >= 9 \n",
    "* Less than equal to\n",
    "> example: 9 <= 10\n",
    "* != Not equal to\n",
    "> example: 1 != 0\n",
    "* == equal to\n",
    "> example: 1 == 1"
   ]
  },
  {
   "cell_type": "markdown",
   "id": "abcd9a06-7ae2-412e-8124-d4244f911b32",
   "metadata": {},
   "source": [
    "## Logical Operators\n",
    "\n",
    "> 1. AND\n",
    "> 2. OR\n",
    "> 3. NOT"
   ]
  },
  {
   "cell_type": "markdown",
   "id": "90291ca4-c97a-4378-9489-6def27f91eff",
   "metadata": {},
   "source": [
    "## Operator Precedence \n",
    "\n",
    "> 1. <, >, >=, <=, ==, !=\n",
    "> 2. and\n",
    "> 3. or\n",
    "> 4. not "
   ]
  },
  {
   "cell_type": "markdown",
   "id": "cbbfd3be-1ad0-463e-9603-fa2331831f23",
   "metadata": {},
   "source": [
    "### AND\n",
    "\n",
    "> 1. True and False = False\n",
    "> 2. False and True = False\n",
    "> 3. Flase and False = False\n",
    "> 4. True and True = True\n",
    "\n",
    "### OR\n",
    "\n",
    "> 1. True and False = True\n",
    "> 2. False and True = True\n",
    "> 3. Flase and False = False\n",
    "> 4. True and True = True\n",
    "\n",
    "### NOT\n",
    "\n",
    "> 1. not false = True\n",
    "> 2. not true = False\n",
    "   \n"
   ]
  },
  {
   "cell_type": "markdown",
   "id": "8def922c-3e1c-43df-8f68-f18fea954a5a",
   "metadata": {},
   "source": [
    "### Complex Expressions"
   ]
  },
  {
   "cell_type": "code",
   "execution_count": null,
   "id": "294b63f0-83db-425f-94ef-e0a32398caff",
   "metadata": {},
   "outputs": [],
   "source": [
    "\n",
    "#1)  True and not (5<3)\n",
    "\n",
    "5 < 3\n",
    "\n",
    "# answer : True"
   ]
  },
  {
   "cell_type": "code",
   "execution_count": null,
   "id": "dd630049-8ebc-4383-b445-5c471fa2eaed",
   "metadata": {},
   "outputs": [],
   "source": [
    "not False"
   ]
  },
  {
   "cell_type": "code",
   "execution_count": null,
   "id": "89d416ca-da29-404c-bdda-b0c99a3694f6",
   "metadata": {},
   "outputs": [],
   "source": [
    "True and True"
   ]
  },
  {
   "cell_type": "code",
   "execution_count": null,
   "id": "5ce77600-1e56-4645-b1b4-3e8667ffaff7",
   "metadata": {},
   "outputs": [],
   "source": [
    "# 2). False or not (3>2)\n",
    "\n",
    "3 > 2\n",
    "\n",
    "# answer : False"
   ]
  },
  {
   "cell_type": "code",
   "execution_count": null,
   "id": "6cf539b0-0c9d-4007-871f-716a64c21b97",
   "metadata": {},
   "outputs": [],
   "source": [
    "not True"
   ]
  },
  {
   "cell_type": "code",
   "execution_count": null,
   "id": "e6a47e2f-b07e-465f-bd96-ee464f54c4b7",
   "metadata": {},
   "outputs": [],
   "source": [
    "False or False"
   ]
  },
  {
   "cell_type": "markdown",
   "id": "e824da59-fb10-48cf-b256-e68d585b31de",
   "metadata": {},
   "source": [
    "### if keyword\n",
    "\n",
    "```\n",
    "if [condition]:\n",
    "   .............\n",
    "   .............\n",
    "   .............\n",
    "   .............\n",
    "print(\"done\")\n",
    "```\n",
    "> 1) if check conditions are true or false\n",
    "> 2) ....... this indented block we can write anything also given multiple if condtion on basis of our program need\n",
    "> 3) print done means we are outsided of if construct     "
   ]
  },
  {
   "cell_type": "code",
   "execution_count": null,
   "id": "13c1949f-2ab6-45b7-95c5-22a797c3b8ce",
   "metadata": {},
   "outputs": [],
   "source": [
    "grade = 40\n",
    "\n",
    "if grade >= 35:\n",
    "    print(\"you are pass\")\n",
    "\n",
    "print(\"you did great!\")"
   ]
  },
  {
   "cell_type": "code",
   "execution_count": null,
   "id": "7d17e227-9274-4a92-96c3-3f8bca5a0f64",
   "metadata": {},
   "outputs": [],
   "source": [
    "grade = 60\n",
    "\n",
    "if grade >= 70:\n",
    "    print(\"you are passed.\")\n",
    "print(\"you did great!\")\n"
   ]
  },
  {
   "cell_type": "code",
   "execution_count": null,
   "id": "81b180dd-e870-4775-a72b-a135cb6aa578",
   "metadata": {},
   "outputs": [],
   "source": [
    "grade = 60\n",
    "\n",
    "if grade >= 70:\n",
    "    print(\"you are passed.\")\n",
    "    \n",
    "if grade >= 50:\n",
    "    print(\"you are passed.\")\n",
    "\n",
    "print(\"you did great!\")    "
   ]
  },
  {
   "cell_type": "markdown",
   "id": "a35ef85b-f214-4976-9ba0-dc4d4836edcf",
   "metadata": {},
   "source": [
    "### else (optional keyword):\n",
    "\n",
    "```\n",
    "if [conditions]:\n",
    "   ............\n",
    "   ............\n",
    "else:\n",
    "   ............\n",
    "```\n",
    "> 1). if conditions getting false than else indented block run otherwise if condtion true than if indented block run\n",
    "\n",
    "> 2). else have no condtion and it's connected original if conditions block \n"
   ]
  },
  {
   "cell_type": "code",
   "execution_count": null,
   "id": "6c29964a-70f8-4c45-822d-dcc01bd96def",
   "metadata": {},
   "outputs": [],
   "source": [
    "# student final exam pass or fail grade program \n",
    "\n",
    "n = int(input(\"enter the grade input\"))\n",
    "\n",
    "if n >= 50:\n",
    "   print(\"student passed the exam\")\n",
    "else:\n",
    "   print(\"student failed the exam\") "
   ]
  },
  {
   "cell_type": "markdown",
   "id": "3e525b7a-fdc2-429d-bd32-588e2b0971ce",
   "metadata": {},
   "source": [
    "### elif (optional keyword):\n",
    "\n",
    "```\n",
    "if [conditions]:\n",
    "   ............\n",
    "   ............\n",
    "elif [conditions]:\n",
    "   ............\n",
    "   ............\n",
    "else:\n",
    "   ............\n",
    "```\n",
    "> 1. we can used as optional keyword for multiple conditions put in program\n",
    "> 2. if we used multiple elif but if first satisfy condition true than this one run other none of execute or run program."
   ]
  },
  {
   "cell_type": "code",
   "execution_count": null,
   "id": "56f4498a-1c67-45de-bc95-c46d9b4b0463",
   "metadata": {},
   "outputs": [],
   "source": [
    "# student passed basis grade declaration program \n",
    "\n",
    "\"\"\"\n",
    "A+ : 85 +\n",
    "A  : 70 - 84\n",
    "B  : 60 - 69\n",
    "C  : 50 - 59\n",
    "F  : below 50\n",
    "\"\"\"\n",
    "\n",
    "n = int(input(\"enter the student grade:\"))\n",
    "\n",
    "if n >= 85:\n",
    "    print(\"Student Get A+ Grade.\")\n",
    "elif n >= 70:\n",
    "    print(\"Student Get A Grade.\")\n",
    "elif n >= 60:\n",
    "    print(\"Student Get B Grade.\")\n",
    "elif n >= 50:\n",
    "    print(\"Student Get C Grade.\")\n",
    "else:\n",
    "    print(\"Student Failed the exam\")\n",
    "    "
   ]
  },
  {
   "cell_type": "code",
   "execution_count": null,
   "id": "ae06f204-5ff9-4987-8623-57102577c6ab",
   "metadata": {},
   "outputs": [],
   "source": [
    "# Nested Looop if \n",
    "\n",
    "# 1) we have two players who played different games \n",
    "\n",
    "# 2) we have two games golf and basketball\n",
    "\n",
    "# 3) if we have low score on golf means they win \n",
    "\n",
    "# 4) if we have high score on basketball than they wins\n",
    "\n",
    "p1 = int(input(\"enter the player1 score:\"))\n",
    "p2 = int(input(\"enter the player2 score:\"))\n",
    "\n",
    "game = input(\"enter the game name:\")\n",
    "\n",
    "if game in [\"basketball\",\"golf\"]:\n",
    "    if p1 == p2:\n",
    "        print(\"It's draw game\")\n",
    "    \n",
    "    elif game == \"basketball\":\n",
    "        if p1 > p2:\n",
    "            print(\"player 1 win the game\")\n",
    "        else:\n",
    "            print(\"player 2 win the game\")\n",
    "    elif game == \"golf\":\n",
    "        if p1 < p2:\n",
    "            print(\"player 1 win the game\")\n",
    "        else:\n",
    "            print(\"player 2 win the game\")\n",
    "else:\n",
    "    print(\"unknown game name\")\n"
   ]
  },
  {
   "cell_type": "code",
   "execution_count": null,
   "id": "a4238102-2046-46a9-95de-78d88c030e6a",
   "metadata": {},
   "outputs": [],
   "source": [
    "# find a factor of number "
   ]
  },
  {
   "cell_type": "code",
   "execution_count": null,
   "id": "5e3b27ee-7f5d-4307-984f-d69ffb6afaaa",
   "metadata": {},
   "outputs": [],
   "source": [
    "n = int(input(\"Enter the number: \"))\n",
    "\n",
    "print(f\"Factors of {n} are:\")\n",
    "\n",
    "for i in range(1, n + 1):\n",
    "    if n % i == 0:\n",
    "        print(f\"it's factor number\",i)\n"
   ]
  },
  {
   "cell_type": "markdown",
   "id": "330cef49-5c01-49a4-b34d-b8f45e2fa2ae",
   "metadata": {},
   "source": [
    "### Break Out Of the Pattern\n",
    "\n",
    "### break keyword\n",
    "\n",
    "```\n",
    "for n in range(4):\n",
    "    if n == 2:\n",
    "       break\n",
    "    print(n) \n",
    "        \n",
    "```\n",
    "> print the value 0, 1 but when we got 2 == 2 that time take break the pattern"
   ]
  },
  {
   "cell_type": "code",
   "execution_count": null,
   "id": "bfb9bb5a-71c8-4c39-848a-aafb0384dca8",
   "metadata": {},
   "outputs": [],
   "source": [
    "\n",
    "for n in range(4):\n",
    "    if n==2:\n",
    "        break\n",
    "    print(n)\n",
    "        "
   ]
  },
  {
   "cell_type": "code",
   "execution_count": null,
   "id": "6b7a05c3-5e03-4600-96db-c602123d93ff",
   "metadata": {},
   "outputs": [],
   "source": [
    "n = 0\n",
    "\n",
    "while True:\n",
    "    print(n)\n",
    "    if n > 5:\n",
    "        break\n",
    "    n = n + 1\n",
    "    "
   ]
  },
  {
   "cell_type": "code",
   "execution_count": null,
   "id": "8e2b8b04-047e-4a15-9071-d816af880b6e",
   "metadata": {},
   "outputs": [],
   "source": [
    "for n in range(4):\n",
    "    if n == 2:\n",
    "        print(\"There goes two\")\n",
    "        continue\n",
    "    print(n)    "
   ]
  },
  {
   "cell_type": "code",
   "execution_count": null,
   "id": "82cbdcc7-013d-47ae-a630-87057d77b8db",
   "metadata": {},
   "outputs": [],
   "source": [
    "n = 0\n",
    "\n",
    "while True:\n",
    "    print(n)\n",
    "    if n < 5:\n",
    "        n = n + 1\n",
    "        continue\n",
    "    else:\n",
    "        break\n",
    "    print(\"end the loop\")\n"
   ]
  },
  {
   "cell_type": "code",
   "execution_count": null,
   "id": "24190eec-cb29-4c98-8750-db4742bce2c0",
   "metadata": {},
   "outputs": [],
   "source": [
    "n = 7\n",
    "for i in range(1, n + 1):\n",
    "    print(\"$\" * i)\n",
    "    "
   ]
  },
  {
   "cell_type": "code",
   "execution_count": null,
   "id": "7d2713a8-2bf5-40b9-8a53-80cd0732cc32",
   "metadata": {},
   "outputs": [],
   "source": [
    "n = 7\n",
    "for i in range(7, 0, -1):\n",
    "    print(\"$\" * i)\n"
   ]
  },
  {
   "cell_type": "code",
   "execution_count": null,
   "id": "a31ea0ee-2b1a-4d40-ab02-a9943978aa2f",
   "metadata": {},
   "outputs": [],
   "source": [
    "n = 7\n",
    "\n",
    "for i in range(1, n + 1):\n",
    "    print(\" \" * (n - i) + \"*\" * (2*i -1))\n",
    "    "
   ]
  },
  {
   "cell_type": "code",
   "execution_count": null,
   "id": "199f9e65-c78c-424a-aa88-608b78b664d6",
   "metadata": {},
   "outputs": [],
   "source": [
    "n = 7\n",
    "\n",
    "for i in range(1, n + 1):\n",
    "    print(\" \" * (n - i) + \"*\" * (2*i - 1))\n",
    "for i in range(n-1, 0, -1):\n",
    "    print(\" \" * (n - i) + \"*\" * (2*i - 1))"
   ]
  },
  {
   "cell_type": "markdown",
   "id": "263a808d-be07-4f63-bd31-5a6f0e6629e0",
   "metadata": {},
   "source": [
    "### The \"try\" and \"except\" exceptional error handling"
   ]
  },
  {
   "cell_type": "markdown",
   "id": "e2c86d51-74a4-4284-91f5-e90ef8ccb3c9",
   "metadata": {},
   "source": [
    "```\n",
    "try:\n",
    "   # Code that might cause an error\n",
    "except:\n",
    "   #Code that run if cause an error\n",
    "```"
   ]
  },
  {
   "cell_type": "markdown",
   "id": "f51a2ce6-c0d0-447d-9f6e-0a3dc5fd783d",
   "metadata": {},
   "source": [
    "```\n",
    "else:\n",
    "    # Runs if no exception occurs\n",
    "finally:\n",
    "    # Runs always, even if there’s an exception\n",
    "```"
   ]
  },
  {
   "cell_type": "code",
   "execution_count": null,
   "id": "a66b67b9-6752-459c-8bdd-365e8aa0d9df",
   "metadata": {},
   "outputs": [],
   "source": [
    "try:\n",
    "    number = int(input(\"enter the integer number input\"))\n",
    "except ValueError:\n",
    "    print(\"that is not an integer\")\n",
    "    "
   ]
  },
  {
   "cell_type": "code",
   "execution_count": null,
   "id": "678802b3-2dd5-414e-8524-704fd634f5a7",
   "metadata": {},
   "outputs": [],
   "source": [
    "try:\n",
    "    number = int(input(\"enter the integer number input:\"))\n",
    "    print(number/100)\n",
    "except ValueError:\n",
    "    print(\"It's not an integer value\")\n",
    "except ZeroDivisionError:\n",
    "    print(\"Can't divided by zero\")\n",
    "finally:\n",
    "    print(\"Execution Complete\")\n",
    "    "
   ]
  },
  {
   "cell_type": "code",
   "execution_count": null,
   "id": "40812ad9-ee53-4899-90ae-2477b1eac153",
   "metadata": {},
   "outputs": [],
   "source": [
    "# random coin flip program\n",
    "import random\n",
    "\n",
    "def coin_flip():\n",
    "\n",
    "    if random.randint(0, 1):\n",
    "        return \"heads\"\n",
    "    else:\n",
    "        return \"tails\"\n",
    "\n",
    "def unfair_flip_coin(probability_of_tails):\n",
    "    if random.random() < probability_of_tails:\n",
    "        return \"heads\"\n",
    "    else:\n",
    "        return \"tails\"\n",
    "        \n",
    "heads_tally = 0\n",
    "tails_tally = 0\n",
    "\n",
    "for trails in range(1000000):\n",
    "    if unfair_flip_coin(0.4) == \"heads\":\n",
    "        heads_tally = heads_tally + 1\n",
    "    else:\n",
    "        tails_tally = tails_tally + 1\n",
    "\n",
    "print(\"heads\", heads_tally)\n",
    "print(\"tails\", tails_tally)"
   ]
  },
  {
   "cell_type": "markdown",
   "id": "684fc2c2-05aa-4d76-9c72-f86edd6f0470",
   "metadata": {},
   "source": [
    "### Exercise "
   ]
  },
  {
   "cell_type": "code",
   "execution_count": null,
   "id": "ccda2b2d-5dbd-41a7-830a-20d700ea38b6",
   "metadata": {},
   "outputs": [],
   "source": [
    "# 1). compare values - Exercise :1\n",
    "\n",
    "# 1 <= 1\n",
    "# 1 != 1\n",
    "# 1 != 2\n",
    "# \"good\" != \"bad\"\n",
    "# \"good\" != \"Good\"\n",
    "# 123 == \"123\"\n",
    "\n",
    "print(1 <= 1)\n",
    "print(1 != 1)\n",
    "print(1 != 2)\n",
    "print(\"good\" != \"bad\")\n",
    "print(\"good\" != \"Good\")\n",
    "print(123 == \"123\")\n",
    "\n",
    "# Exercise 2: \n",
    "\n",
    "print(3 < 4)\n",
    "print(10 > 5)\n",
    "print(\"jack\" != \"jill\")\n",
    "print(42!=\"42\")"
   ]
  },
  {
   "cell_type": "code",
   "execution_count": null,
   "id": "68865f74-ee40-4356-80dd-d412efc11cee",
   "metadata": {},
   "outputs": [],
   "source": [
    "# logical experssion : exercise 3\n",
    "\n",
    "#  (1 <= 1) and (1 != 1) = Flase\n",
    "# not (1 != 2) = False\n",
    "# (\"good\" != \"bad\") or False = True\n",
    "# (\"good\" != \"Good\") and not (1 == 1) = False\n",
    "\n",
    "# add prenthesis and make a True all statements : Exercise 4\n",
    "\n",
    "# False == not True -> False == (not True) -> False == False -> ans. True\n",
    "# True and False == True and False -> (True and False) == (True and False) -> False == False -> ans. True \n",
    "# not True and \"A\" == \"B\" -> not (True and \"A\" == \"B\") -> not (False and False) -> not False -> ans. True\n",
    "\n"
   ]
  },
  {
   "cell_type": "code",
   "execution_count": null,
   "id": "485e0fc0-6785-4d4f-8bc3-a95cab4e577c",
   "metadata": {},
   "outputs": [],
   "source": [
    "# exercise 5\n",
    "\n",
    "\"\"\"write a program that prompts the user to enter a \n",
    "word using the input() function and compares the length\n",
    "of the word to the number five. The program should display one of the\n",
    "following outputs, depending on the length of the user's input:\"\"\"\n",
    "\n",
    "string_to_check = input(\"enter the input as a character\")\n",
    "string_length = len(string_to_check)\n",
    "if string_length == 5:\n",
    "    print(\"your input is 5 characters long.\")\n",
    "elif string_length < 5:\n",
    "    print(\"your input is less than 5 characters long\")\n",
    "else:\n",
    "    print(\"your input is greater than 5 characters long\")"
   ]
  },
  {
   "cell_type": "code",
   "execution_count": null,
   "id": "b8501d80-78ab-4358-9a43-05a81642b5f9",
   "metadata": {},
   "outputs": [],
   "source": [
    "# exercise 6\n",
    "\n",
    "\"\"\" Using \"break\",write a program that repeatedly asks the user for some input and quits only if the user enters \"q\" or \"Q\".\"\"\"\n",
    "while True:\n",
    "    user_input = input(\"Type 'q' or 'Q' to quit. \")\n",
    "    if user_input.lower() == \"q\":\n",
    "        break\n",
    "        "
   ]
  },
  {
   "cell_type": "code",
   "execution_count": null,
   "id": "6a2f937f-634d-486d-9a26-5b6fa21f7f14",
   "metadata": {},
   "outputs": [],
   "source": [
    " # exercise 7\n",
    "\n",
    "# Using the continue, write a program that loops over the number 1 to 50 and prints all numbers that are multiples of 3.\n",
    "\n",
    "for i in range(50):\n",
    "    if i % 3 == 0:\n",
    "        continue\n",
    "    print(i)    \n",
    "        "
   ]
  },
  {
   "cell_type": "code",
   "execution_count": null,
   "id": "f6317859-f6b3-42ce-bba5-8814a60fb563",
   "metadata": {},
   "outputs": [],
   "source": [
    "# Exercise 8\n",
    "\"\"\"write a program that repeatedly asks the user to input an integer. \n",
    "If the user enters something other than an integer, then the program\n",
    "should catch the ValueError and display the message \"Try again.\" once the user \n",
    "enters an integer, the program should display the number back to the user and end without crashing.\"\"\"\n",
    "\n",
    "try:\n",
    "    n = int(input(\"enter the integer number:\"))\n",
    "except ValueError:\n",
    "    print(\"Try Again\")\n",
    "    \n"
   ]
  },
  {
   "cell_type": "code",
   "execution_count": null,
   "id": "14a913d7-8c06-4f9a-ac0f-ffe022ddf186",
   "metadata": {},
   "outputs": [],
   "source": [
    "# Exercise 9\n",
    "\"\"\" write a function that’s called roll() and that uses the randint() \n",
    "function from the random module to simulate rolling a fair die by returning\n",
    "a random interval between 1 and 6.\"\"\"\n",
    "import random\n",
    "def roll():\n",
    "    if random.randint(0, 1):\n",
    "        return \"heads\"\n",
    "    else:\n",
    "        return \"tails\"\n",
    "for i in range(1,6):\n",
    "    print(roll())"
   ]
  },
  {
   "cell_type": "code",
   "execution_count": null,
   "id": "7709c9b3-92d8-4136-bc9a-618bf60232a7",
   "metadata": {},
   "outputs": [],
   "source": [
    "# Exercise 10\n",
    "# find the factors of number\n",
    "\"\"\"\n",
    "A factor of a positive integer n is any positive integer less than or equal to n that divides n with no reminder.\n",
    "\"\"\"\n",
    "\n",
    "n = int(input(\"Enter the factor number\"))\n",
    "\n",
    "for i in range(1, 1 + n):\n",
    "    if n % i == 0 :\n",
    "        print(f\"factor of {n} is {i}\")\n",
    "        \n"
   ]
  },
  {
   "cell_type": "code",
   "execution_count": null,
   "id": "c2ee001c-eb0c-47aa-b4c4-26384daf39b4",
   "metadata": {},
   "outputs": [
    {
     "name": "stdout",
     "output_type": "stream",
     "text": [
      "Welcome to the role-playing game!\n",
      " Your Health : 100, Monster Health: 150\n"
     ]
    },
    {
     "name": "stdin",
     "output_type": "stream",
     "text": [
      "Do you want to (A)ttack, (H)eal or (R)un away:  a\n"
     ]
    },
    {
     "name": "stdout",
     "output_type": "stream",
     "text": [
      "Player scored a critical hit of 30 damage.\n",
      "You attacked the monster for 30 damage!\n",
      "The monster attacked you for 20 damage!\n",
      " Your Health : 80, Monster Health: 120\n"
     ]
    },
    {
     "name": "stdin",
     "output_type": "stream",
     "text": [
      "Do you want to (A)ttack, (H)eal or (R)un away:  a\n"
     ]
    },
    {
     "name": "stdout",
     "output_type": "stream",
     "text": [
      "Player scored a critical hit of 24 damage.\n",
      "You attacked the monster for 24 damage!\n",
      "Monster scored a critical hit of 36 damage.\n",
      "The monster attacked you for 36 damage!\n",
      " Your Health : 44, Monster Health: 96\n"
     ]
    },
    {
     "name": "stdin",
     "output_type": "stream",
     "text": [
      "Do you want to (A)ttack, (H)eal or (R)un away:  h\n"
     ]
    },
    {
     "name": "stdout",
     "output_type": "stream",
     "text": [
      "You healed for 30 health!\n",
      "The monster attacked you for 19 damage!\n",
      " Your Health : 55, Monster Health: 96\n"
     ]
    },
    {
     "name": "stdin",
     "output_type": "stream",
     "text": [
      "Do you want to (A)ttack, (H)eal or (R)un away:  a\n"
     ]
    },
    {
     "name": "stdout",
     "output_type": "stream",
     "text": [
      "You attacked the monster for 14 damage!\n",
      "Monster scored a critical hit of 36 damage.\n",
      "The monster attacked you for 36 damage!\n",
      " Your Health : 19, Monster Health: 82\n"
     ]
    },
    {
     "name": "stdin",
     "output_type": "stream",
     "text": [
      "Do you want to (A)ttack, (H)eal or (R)un away:  a\n"
     ]
    },
    {
     "name": "stdout",
     "output_type": "stream",
     "text": [
      "Player scored a critical hit of 30 damage.\n",
      "You attacked the monster for 30 damage!\n",
      "The monster attacked you for 19 damage!\n",
      "You were defeated by the monster!\n",
      " Your Health : 0, Monster Health: 52\n"
     ]
    },
    {
     "name": "stdin",
     "output_type": "stream",
     "text": [
      "Do you want to (A)ttack, (H)eal or (R)un away:  h\n"
     ]
    },
    {
     "name": "stdout",
     "output_type": "stream",
     "text": [
      "You healed for 30 health!\n",
      "Monster scored a critical hit of 30 damage.\n",
      "The monster attacked you for 30 damage!\n",
      "You were defeated by the monster!\n",
      " Your Health : 0, Monster Health: 52\n"
     ]
    },
    {
     "name": "stdin",
     "output_type": "stream",
     "text": [
      "Do you want to (A)ttack, (H)eal or (R)un away:  a\n"
     ]
    },
    {
     "name": "stdout",
     "output_type": "stream",
     "text": [
      "Player scored a critical hit of 24 damage.\n",
      "You attacked the monster for 24 damage!\n",
      "Monster scored a critical hit of 36 damage.\n",
      "The monster attacked you for 36 damage!\n",
      "You were defeated by the monster!\n",
      " Your Health : -36, Monster Health: 28\n"
     ]
    }
   ],
   "source": [
    "# Build Text based RPG game\n",
    "\n",
    "\"\"\" Write a text-based role-playing game(RPG) with the following features:\n",
    "1). The game involves one player and one monster. \n",
    "2). The player begins with 100 health, while the monster starts with 150 health.\n",
    "3). The player has the option to attack, heal, or run away\n",
    "4). If the player attacks, they deal between 10 and 15 damage to the monster. \n",
    "5). If the player heals, they regain 30 health, but that can’t go over their maximum of 100.\n",
    "6). If the player runs away, then the game ends.\n",
    "7). After the player’s turn, if the monster is still alive—then it deals between 15 and 20 damage to the player.\"\"\"\n",
    "\n",
    "\n",
    "######################STRETCH#############################\n",
    "\n",
    "# Prevent the player from exiting the game.\n",
    "#    By pressing Ctrl + C.\n",
    "# Introduce double-damage critical hits.\n",
    "# That accour when an attack value is a mutiple of 3.\n",
    "# Use emojis or string formatting syntax \n",
    "# TO make the game output more enjoyable  \n",
    "\n",
    "\n",
    "import random \n",
    "\n",
    "print(\"Welcome to the role-playing game!\")\n",
    "\n",
    "#1). The game involves one player and one monster. \n",
    "#2). The player begins with 100 health, while the monster starts with 150 health.\n",
    "\n",
    "player_health = 100\n",
    "monster_health = 150\n",
    "heal = 30\n",
    "\n",
    "def is_factor_three(number):\n",
    "    if number % 3 == 0:\n",
    "        return True\n",
    "    else:\n",
    "        return False\n",
    "\n",
    "def calculate_damage_number(attacker):\n",
    "    if attacker == \"player\":\n",
    "        damage = random.randint(10,15)\n",
    "    else:\n",
    "        damage = random.randint(15,20)\n",
    "\n",
    "    if is_factor_three(damage):\n",
    "        damage = damage * 2\n",
    "        print(f\"{attacker.capitalize()} scored a critical hit of {damage} damage.\")\n",
    "    \n",
    "    return damage\n",
    "\n",
    "\n",
    "while True:\n",
    "    #3). The player has the option to attack, heal, or run away\n",
    "    \n",
    "    print(f\" Your Health : {player_health}, Monster Health: {monster_health}\")\n",
    "    try:\n",
    "        action = input(\"Do you want to (A)ttack, (H)eal or (R)un away: \").upper()\n",
    "    except KeybardInterrupt:\n",
    "        print(\"You can't game quit using ctrl + c\")\n",
    "    #4). If the player attacks, they deal between 10 and 15 damage to the monster. \n",
    "\n",
    "    if action == \"A\":\n",
    "        damage = calculate_damage_number(\"player\")\n",
    "        monster_health -= damage\n",
    "        print(f\"You attacked the monster for {damage} damage!\")\n",
    "\n",
    "        if monster_health <= 0:\n",
    "            print(\"You defeated the monster!\")\n",
    "            break\n",
    "\n",
    "    #5). If the player heals, they regain 30 health, but that can’t go over their maximum of 100.\n",
    "\n",
    "    elif action == \"H\":\n",
    "        player_health += heal\n",
    "        if player_health > 100:\n",
    "            player_health = 100\n",
    "        print(f\"You healed for {heal} health!\")\n",
    "\n",
    "    #6). If the player runs away, then the game ends.    \n",
    "        \n",
    "    elif action == \"R\":\n",
    "        print(\"You'r run away.\")\n",
    "        break \n",
    "    else:\n",
    "        print(\"Invalid Action! Please Choose Valid Action Option 'A','H', or 'R'\")\n",
    "        continue\n",
    "    #7). After the player’s turn, if the monster is still alive—then it deals between 15 and 20 damage to the player.\"\"\"\n",
    "    if monster_health > 0:\n",
    "        monster_damage = calculate_damage_number(\"monster\")\n",
    "        player_health -= monster_damage\n",
    "        print(f\"The monster attacked you for {monster_damage} damage!\")\n",
    "\n",
    "        if player_health <= 0:\n",
    "            print(\"You were defeated by the monster!\")\n",
    "\n",
    "\n",
    "\n"
   ]
  },
  {
   "cell_type": "code",
   "execution_count": null,
   "id": "b35534be-f3f6-4de2-9bb8-98b1fb204132",
   "metadata": {},
   "outputs": [],
   "source": []
  },
  {
   "cell_type": "code",
   "execution_count": null,
   "id": "2c95278c-6baf-4c3b-8479-b5fc01a54656",
   "metadata": {},
   "outputs": [],
   "source": []
  }
 ],
 "metadata": {
  "kernelspec": {
   "display_name": "Python [conda env:base] *",
   "language": "python",
   "name": "conda-base-py"
  },
  "language_info": {
   "codemirror_mode": {
    "name": "ipython",
    "version": 3
   },
   "file_extension": ".py",
   "mimetype": "text/x-python",
   "name": "python",
   "nbconvert_exporter": "python",
   "pygments_lexer": "ipython3",
   "version": "3.13.5"
  }
 },
 "nbformat": 4,
 "nbformat_minor": 5
}
